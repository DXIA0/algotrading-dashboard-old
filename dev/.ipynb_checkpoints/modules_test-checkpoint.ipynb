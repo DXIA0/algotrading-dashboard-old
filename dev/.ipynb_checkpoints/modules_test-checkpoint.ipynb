{
 "cells": [
  {
   "cell_type": "code",
   "execution_count": 2,
   "metadata": {},
   "outputs": [],
   "source": [
    "import pandas as pd\n",
    "import requests"
   ]
  },
  {
   "cell_type": "code",
   "execution_count": 3,
   "metadata": {},
   "outputs": [],
   "source": [
    "################################################\n",
    "########## Premarket Gappers ###################\n",
    "################################################\n",
    "\n",
    "#to do\n",
    "#1. implement another screener https://www.tradingview.com/screener/\n",
    "# https://www.tradingview.com/screener/\n",
    "# https://thestockmarketwatch.com/markets/topstocks/\n",
    "\n",
    "#https://towardsdatascience.com/making-a-stock-screener-with-python-4f591b198261\n",
    "# https://github.com/jacksonhorton/marketTrader\n",
    "# pre and post market stats https://github.com/ivanstruk/Backtesting-Pre-Market-Price-Action\n",
    "# source https://iexcloud.io/docs/api/#chart\n",
    "\n",
    "\n",
    "def get_pregainers(gain_percent, max_last, min_volume, url):\n",
    "    header = {\n",
    "      \"User-Agent\": \"Mozilla/5.0 (X11; Linux x86_64) AppleWebKit/537.36 (KHTML, like Gecko) Chrome/50.0.2661.75 Safari/537.36\",\n",
    "      \"X-Requested-With\": \"XMLHttpRequest\"\n",
    "    }\n",
    "\n",
    "    r = requests.get(url, headers=header)\n",
    "\n",
    "    df_temp = pd.read_html(r.text) #fetch table from \"thestockmarketwatch.com\"\n",
    "    df_pregainers = df_temp[1]\n",
    "\n",
    "    df_pregainers['%Chg'] = df_pregainers['%Chg'].str.strip('%') #reformat all percent\n",
    "    df_pregainers['%Chg'] = pd.to_numeric(df_pregainers['%Chg'])\n",
    "    df_pregainers['Last'] = df_pregainers['Last'].str.strip('$')\n",
    "    df_pregainers['Last'] = pd.to_numeric(df_pregainers['Last'])\n",
    "    df_pregainers['Volume'] = pd.to_numeric(df_pregainers['Volume'])\n",
    "\n",
    "    df_pregainers.rename(columns={\"Last\":\"Last Price ($)\", \"%Chg\":\"Change (%)\", \"Symb\":\"Symbol\"}, inplace=True) #rename columns\n",
    "\n",
    "    df_eligible_candidates = pd.DataFrame(columns = [\"Change (%)\", \"Last Price ($)\", \"Symbol\", \"Company\", \"Volume\"])\n",
    "\n",
    "    for index, row in df_pregainers.iterrows():\n",
    "        if row['Change (%)'] > gain_percent and                row['Last Price ($)'] < max_last and                row['Volume'] > min_volume:\n",
    "              df_eligible_candidates = df_eligible_candidates.append(row, ignore_index=True)\n",
    "        else:\n",
    "            pass\n",
    "\n",
    "    return df_eligible_candidates\n",
    "\n",
    "\n",
    "def get_gainers(gain_percent, max_last, min_volume, url):\n",
    "\n",
    "\n",
    "    return df_eligible_candidates"
   ]
  },
  {
   "cell_type": "code",
   "execution_count": 7,
   "metadata": {},
   "outputs": [
    {
     "data": {
      "text/plain": [
       "'\\ndf_pregainers[\\'%Chg\\'] = df_pregainers[\\'%Chg\\'].str.strip(\\'%\\') #reformat all percent\\ndf_pregainers[\\'%Chg\\'] = pd.to_numeric(df_pregainers[\\'%Chg\\'])\\ndf_pregainers[\\'Last\\'] = df_pregainers[\\'Last\\'].str.strip(\\'$\\')\\ndf_pregainers[\\'Last\\'] = pd.to_numeric(df_pregainers[\\'Last\\'])\\ndf_pregainers[\\'Volume\\'] = pd.to_numeric(df_pregainers[\\'Volume\\'])\\n\\ndf_pregainers.rename(columns={\"Last\":\"Last Price ($)\", \"%Chg\":\"Change (%)\", \"Symb\":\"Symbol\"}, inplace=True) #rename columns\\n\\ndf_eligible_candidates = pd.DataFrame(columns = [\"Change (%)\", \"Last Price ($)\", \"Symbol\", \"Company\", \"Volume\"])\\n\\nfor index, row in df_pregainers.iterrows():\\n    if row[\\'Change (%)\\'] > gain_percent and                row[\\'Last Price ($)\\'] < max_last and                row[\\'Volume\\'] > min_volume:\\n          df_eligible_candidates = df_eligible_candidates.append(row, ignore_index=True)\\n    else:\\n        pass\\n'"
      ]
     },
     "execution_count": 7,
     "metadata": {},
     "output_type": "execute_result"
    }
   ],
   "source": [
    "#yfinance \n",
    "#iex live patterns\n",
    "\n",
    "header = {\n",
    "  \"User-Agent\": \"Mozilla/5.0 (X11; Linux x86_64) AppleWebKit/537.36 (KHTML, like Gecko) Chrome/50.0.2661.75 Safari/537.36\",\n",
    "  \"X-Requested-With\": \"XMLHttpRequest\"\n",
    "}\n",
    "\n",
    "url = 'https://thestockmarketwatch.com/markets/topstocks/'\n",
    "\n",
    "r = requests.get(url, headers=header)\n",
    "\n",
    "df_temp = pd.read_html(r.text) #fetch table from \"thestockmarketwatch.com\"\n",
    "\n",
    "#df_pregainers = df_temp[1]\n",
    "\n",
    "'''\n",
    "df_pregainers['%Chg'] = df_pregainers['%Chg'].str.strip('%') #reformat all percent\n",
    "df_pregainers['%Chg'] = pd.to_numeric(df_pregainers['%Chg'])\n",
    "df_pregainers['Last'] = df_pregainers['Last'].str.strip('$')\n",
    "df_pregainers['Last'] = pd.to_numeric(df_pregainers['Last'])\n",
    "df_pregainers['Volume'] = pd.to_numeric(df_pregainers['Volume'])\n",
    "\n",
    "df_pregainers.rename(columns={\"Last\":\"Last Price ($)\", \"%Chg\":\"Change (%)\", \"Symb\":\"Symbol\"}, inplace=True) #rename columns\n",
    "\n",
    "df_eligible_candidates = pd.DataFrame(columns = [\"Change (%)\", \"Last Price ($)\", \"Symbol\", \"Company\", \"Volume\"])\n",
    "\n",
    "for index, row in df_pregainers.iterrows():\n",
    "    if row['Change (%)'] > gain_percent and                row['Last Price ($)'] < max_last and                row['Volume'] > min_volume:\n",
    "          df_eligible_candidates = df_eligible_candidates.append(row, ignore_index=True)\n",
    "    else:\n",
    "        pass\n",
    "'''"
   ]
  },
  {
   "cell_type": "code",
   "execution_count": 13,
   "metadata": {},
   "outputs": [
    {
     "data": {
      "text/html": [
       "<div>\n",
       "<style scoped>\n",
       "    .dataframe tbody tr th:only-of-type {\n",
       "        vertical-align: middle;\n",
       "    }\n",
       "\n",
       "    .dataframe tbody tr th {\n",
       "        vertical-align: top;\n",
       "    }\n",
       "\n",
       "    .dataframe thead th {\n",
       "        text-align: right;\n",
       "    }\n",
       "</style>\n",
       "<table border=\"1\" class=\"dataframe\">\n",
       "  <thead>\n",
       "    <tr style=\"text-align: right;\">\n",
       "      <th></th>\n",
       "      <th>0</th>\n",
       "      <th>1</th>\n",
       "    </tr>\n",
       "  </thead>\n",
       "  <tbody>\n",
       "    <tr>\n",
       "      <th>0</th>\n",
       "      <td>NKE : Nike, Inc.</td>\n",
       "      <td>+2.31%</td>\n",
       "    </tr>\n",
       "    <tr>\n",
       "      <th>1</th>\n",
       "      <td>BCS : Barclays Plc</td>\n",
       "      <td>+3.84%</td>\n",
       "    </tr>\n",
       "    <tr>\n",
       "      <th>2</th>\n",
       "      <td>RBS : The Royal Bank of Sc...</td>\n",
       "      <td>+3.20%</td>\n",
       "    </tr>\n",
       "    <tr>\n",
       "      <th>3</th>\n",
       "      <td>LYG : Lloyds Banking Group...</td>\n",
       "      <td>+10.43%</td>\n",
       "    </tr>\n",
       "  </tbody>\n",
       "</table>\n",
       "</div>"
      ],
      "text/plain": [
       "                               0        1\n",
       "0               NKE : Nike, Inc.   +2.31%\n",
       "1             BCS : Barclays Plc   +3.84%\n",
       "2  RBS : The Royal Bank of Sc...   +3.20%\n",
       "3  LYG : Lloyds Banking Group...  +10.43%"
      ]
     },
     "execution_count": 13,
     "metadata": {},
     "output_type": "execute_result"
    }
   ],
   "source": [
    "df_temp[0]"
   ]
  },
  {
   "cell_type": "code",
   "execution_count": 5,
   "metadata": {},
   "outputs": [
    {
     "ename": "KeyError",
     "evalue": "'%Chg'",
     "output_type": "error",
     "traceback": [
      "\u001b[1;31m---------------------------------------------------------------------------\u001b[0m",
      "\u001b[1;31mKeyError\u001b[0m                                  Traceback (most recent call last)",
      "\u001b[1;32m~\\anaconda3\\lib\\site-packages\\pandas\\core\\indexes\\base.py\u001b[0m in \u001b[0;36mget_loc\u001b[1;34m(self, key, method, tolerance)\u001b[0m\n\u001b[0;32m   2645\u001b[0m             \u001b[1;32mtry\u001b[0m\u001b[1;33m:\u001b[0m\u001b[1;33m\u001b[0m\u001b[1;33m\u001b[0m\u001b[0m\n\u001b[1;32m-> 2646\u001b[1;33m                 \u001b[1;32mreturn\u001b[0m \u001b[0mself\u001b[0m\u001b[1;33m.\u001b[0m\u001b[0m_engine\u001b[0m\u001b[1;33m.\u001b[0m\u001b[0mget_loc\u001b[0m\u001b[1;33m(\u001b[0m\u001b[0mkey\u001b[0m\u001b[1;33m)\u001b[0m\u001b[1;33m\u001b[0m\u001b[1;33m\u001b[0m\u001b[0m\n\u001b[0m\u001b[0;32m   2647\u001b[0m             \u001b[1;32mexcept\u001b[0m \u001b[0mKeyError\u001b[0m\u001b[1;33m:\u001b[0m\u001b[1;33m\u001b[0m\u001b[1;33m\u001b[0m\u001b[0m\n",
      "\u001b[1;32mpandas\\_libs\\index.pyx\u001b[0m in \u001b[0;36mpandas._libs.index.IndexEngine.get_loc\u001b[1;34m()\u001b[0m\n",
      "\u001b[1;32mpandas\\_libs\\index.pyx\u001b[0m in \u001b[0;36mpandas._libs.index.IndexEngine.get_loc\u001b[1;34m()\u001b[0m\n",
      "\u001b[1;32mpandas\\_libs\\index_class_helper.pxi\u001b[0m in \u001b[0;36mpandas._libs.index.Int64Engine._check_type\u001b[1;34m()\u001b[0m\n",
      "\u001b[1;31mKeyError\u001b[0m: '%Chg'",
      "\nDuring handling of the above exception, another exception occurred:\n",
      "\u001b[1;31mKeyError\u001b[0m                                  Traceback (most recent call last)",
      "\u001b[1;32m<ipython-input-5-87f1c784391e>\u001b[0m in \u001b[0;36m<module>\u001b[1;34m\u001b[0m\n\u001b[0;32m      9\u001b[0m \u001b[1;33m\u001b[0m\u001b[0m\n\u001b[0;32m     10\u001b[0m \u001b[0mdf_premarket_candidates\u001b[0m \u001b[1;33m=\u001b[0m \u001b[0mget_pregainers\u001b[0m\u001b[1;33m(\u001b[0m\u001b[0mgain_percent\u001b[0m\u001b[1;33m,\u001b[0m \u001b[0mmax_last\u001b[0m\u001b[1;33m,\u001b[0m \u001b[0mmin_volume\u001b[0m\u001b[1;33m,\u001b[0m \u001b[0murl_permarket\u001b[0m\u001b[1;33m)\u001b[0m\u001b[1;33m\u001b[0m\u001b[1;33m\u001b[0m\u001b[0m\n\u001b[1;32m---> 11\u001b[1;33m \u001b[0mdf_gainers_candidates\u001b[0m \u001b[1;33m=\u001b[0m \u001b[0mget_pregainers\u001b[0m\u001b[1;33m(\u001b[0m\u001b[0mgain_percent\u001b[0m\u001b[1;33m,\u001b[0m \u001b[0mmax_last\u001b[0m\u001b[1;33m,\u001b[0m \u001b[0mmin_volume\u001b[0m\u001b[1;33m,\u001b[0m \u001b[0murl_gainers\u001b[0m\u001b[1;33m)\u001b[0m\u001b[1;33m\u001b[0m\u001b[1;33m\u001b[0m\u001b[0m\n\u001b[0m",
      "\u001b[1;32m<ipython-input-3-36ce171ce4fe>\u001b[0m in \u001b[0;36mget_pregainers\u001b[1;34m(gain_percent, max_last, min_volume, url)\u001b[0m\n\u001b[0;32m     37\u001b[0m     \u001b[0mdf_pregainers\u001b[0m \u001b[1;33m=\u001b[0m \u001b[0mdf_temp\u001b[0m\u001b[1;33m[\u001b[0m\u001b[1;36m1\u001b[0m\u001b[1;33m]\u001b[0m\u001b[1;33m\u001b[0m\u001b[1;33m\u001b[0m\u001b[0m\n\u001b[0;32m     38\u001b[0m \u001b[1;33m\u001b[0m\u001b[0m\n\u001b[1;32m---> 39\u001b[1;33m     \u001b[0mdf_pregainers\u001b[0m\u001b[1;33m[\u001b[0m\u001b[1;34m'%Chg'\u001b[0m\u001b[1;33m]\u001b[0m \u001b[1;33m=\u001b[0m \u001b[0mdf_pregainers\u001b[0m\u001b[1;33m[\u001b[0m\u001b[1;34m'%Chg'\u001b[0m\u001b[1;33m]\u001b[0m\u001b[1;33m.\u001b[0m\u001b[0mstr\u001b[0m\u001b[1;33m.\u001b[0m\u001b[0mstrip\u001b[0m\u001b[1;33m(\u001b[0m\u001b[1;34m'%'\u001b[0m\u001b[1;33m)\u001b[0m \u001b[1;31m#reformat all percent\u001b[0m\u001b[1;33m\u001b[0m\u001b[1;33m\u001b[0m\u001b[0m\n\u001b[0m\u001b[0;32m     40\u001b[0m     \u001b[0mdf_pregainers\u001b[0m\u001b[1;33m[\u001b[0m\u001b[1;34m'%Chg'\u001b[0m\u001b[1;33m]\u001b[0m \u001b[1;33m=\u001b[0m \u001b[0mpd\u001b[0m\u001b[1;33m.\u001b[0m\u001b[0mto_numeric\u001b[0m\u001b[1;33m(\u001b[0m\u001b[0mdf_pregainers\u001b[0m\u001b[1;33m[\u001b[0m\u001b[1;34m'%Chg'\u001b[0m\u001b[1;33m]\u001b[0m\u001b[1;33m)\u001b[0m\u001b[1;33m\u001b[0m\u001b[1;33m\u001b[0m\u001b[0m\n\u001b[0;32m     41\u001b[0m     \u001b[0mdf_pregainers\u001b[0m\u001b[1;33m[\u001b[0m\u001b[1;34m'Last'\u001b[0m\u001b[1;33m]\u001b[0m \u001b[1;33m=\u001b[0m \u001b[0mdf_pregainers\u001b[0m\u001b[1;33m[\u001b[0m\u001b[1;34m'Last'\u001b[0m\u001b[1;33m]\u001b[0m\u001b[1;33m.\u001b[0m\u001b[0mstr\u001b[0m\u001b[1;33m.\u001b[0m\u001b[0mstrip\u001b[0m\u001b[1;33m(\u001b[0m\u001b[1;34m'$'\u001b[0m\u001b[1;33m)\u001b[0m\u001b[1;33m\u001b[0m\u001b[1;33m\u001b[0m\u001b[0m\n",
      "\u001b[1;32m~\\anaconda3\\lib\\site-packages\\pandas\\core\\frame.py\u001b[0m in \u001b[0;36m__getitem__\u001b[1;34m(self, key)\u001b[0m\n\u001b[0;32m   2798\u001b[0m             \u001b[1;32mif\u001b[0m \u001b[0mself\u001b[0m\u001b[1;33m.\u001b[0m\u001b[0mcolumns\u001b[0m\u001b[1;33m.\u001b[0m\u001b[0mnlevels\u001b[0m \u001b[1;33m>\u001b[0m \u001b[1;36m1\u001b[0m\u001b[1;33m:\u001b[0m\u001b[1;33m\u001b[0m\u001b[1;33m\u001b[0m\u001b[0m\n\u001b[0;32m   2799\u001b[0m                 \u001b[1;32mreturn\u001b[0m \u001b[0mself\u001b[0m\u001b[1;33m.\u001b[0m\u001b[0m_getitem_multilevel\u001b[0m\u001b[1;33m(\u001b[0m\u001b[0mkey\u001b[0m\u001b[1;33m)\u001b[0m\u001b[1;33m\u001b[0m\u001b[1;33m\u001b[0m\u001b[0m\n\u001b[1;32m-> 2800\u001b[1;33m             \u001b[0mindexer\u001b[0m \u001b[1;33m=\u001b[0m \u001b[0mself\u001b[0m\u001b[1;33m.\u001b[0m\u001b[0mcolumns\u001b[0m\u001b[1;33m.\u001b[0m\u001b[0mget_loc\u001b[0m\u001b[1;33m(\u001b[0m\u001b[0mkey\u001b[0m\u001b[1;33m)\u001b[0m\u001b[1;33m\u001b[0m\u001b[1;33m\u001b[0m\u001b[0m\n\u001b[0m\u001b[0;32m   2801\u001b[0m             \u001b[1;32mif\u001b[0m \u001b[0mis_integer\u001b[0m\u001b[1;33m(\u001b[0m\u001b[0mindexer\u001b[0m\u001b[1;33m)\u001b[0m\u001b[1;33m:\u001b[0m\u001b[1;33m\u001b[0m\u001b[1;33m\u001b[0m\u001b[0m\n\u001b[0;32m   2802\u001b[0m                 \u001b[0mindexer\u001b[0m \u001b[1;33m=\u001b[0m \u001b[1;33m[\u001b[0m\u001b[0mindexer\u001b[0m\u001b[1;33m]\u001b[0m\u001b[1;33m\u001b[0m\u001b[1;33m\u001b[0m\u001b[0m\n",
      "\u001b[1;32m~\\anaconda3\\lib\\site-packages\\pandas\\core\\indexes\\base.py\u001b[0m in \u001b[0;36mget_loc\u001b[1;34m(self, key, method, tolerance)\u001b[0m\n\u001b[0;32m   2646\u001b[0m                 \u001b[1;32mreturn\u001b[0m \u001b[0mself\u001b[0m\u001b[1;33m.\u001b[0m\u001b[0m_engine\u001b[0m\u001b[1;33m.\u001b[0m\u001b[0mget_loc\u001b[0m\u001b[1;33m(\u001b[0m\u001b[0mkey\u001b[0m\u001b[1;33m)\u001b[0m\u001b[1;33m\u001b[0m\u001b[1;33m\u001b[0m\u001b[0m\n\u001b[0;32m   2647\u001b[0m             \u001b[1;32mexcept\u001b[0m \u001b[0mKeyError\u001b[0m\u001b[1;33m:\u001b[0m\u001b[1;33m\u001b[0m\u001b[1;33m\u001b[0m\u001b[0m\n\u001b[1;32m-> 2648\u001b[1;33m                 \u001b[1;32mreturn\u001b[0m \u001b[0mself\u001b[0m\u001b[1;33m.\u001b[0m\u001b[0m_engine\u001b[0m\u001b[1;33m.\u001b[0m\u001b[0mget_loc\u001b[0m\u001b[1;33m(\u001b[0m\u001b[0mself\u001b[0m\u001b[1;33m.\u001b[0m\u001b[0m_maybe_cast_indexer\u001b[0m\u001b[1;33m(\u001b[0m\u001b[0mkey\u001b[0m\u001b[1;33m)\u001b[0m\u001b[1;33m)\u001b[0m\u001b[1;33m\u001b[0m\u001b[1;33m\u001b[0m\u001b[0m\n\u001b[0m\u001b[0;32m   2649\u001b[0m         \u001b[0mindexer\u001b[0m \u001b[1;33m=\u001b[0m \u001b[0mself\u001b[0m\u001b[1;33m.\u001b[0m\u001b[0mget_indexer\u001b[0m\u001b[1;33m(\u001b[0m\u001b[1;33m[\u001b[0m\u001b[0mkey\u001b[0m\u001b[1;33m]\u001b[0m\u001b[1;33m,\u001b[0m \u001b[0mmethod\u001b[0m\u001b[1;33m=\u001b[0m\u001b[0mmethod\u001b[0m\u001b[1;33m,\u001b[0m \u001b[0mtolerance\u001b[0m\u001b[1;33m=\u001b[0m\u001b[0mtolerance\u001b[0m\u001b[1;33m)\u001b[0m\u001b[1;33m\u001b[0m\u001b[1;33m\u001b[0m\u001b[0m\n\u001b[0;32m   2650\u001b[0m         \u001b[1;32mif\u001b[0m \u001b[0mindexer\u001b[0m\u001b[1;33m.\u001b[0m\u001b[0mndim\u001b[0m \u001b[1;33m>\u001b[0m \u001b[1;36m1\u001b[0m \u001b[1;32mor\u001b[0m \u001b[0mindexer\u001b[0m\u001b[1;33m.\u001b[0m\u001b[0msize\u001b[0m \u001b[1;33m>\u001b[0m \u001b[1;36m1\u001b[0m\u001b[1;33m:\u001b[0m\u001b[1;33m\u001b[0m\u001b[1;33m\u001b[0m\u001b[0m\n",
      "\u001b[1;32mpandas\\_libs\\index.pyx\u001b[0m in \u001b[0;36mpandas._libs.index.IndexEngine.get_loc\u001b[1;34m()\u001b[0m\n",
      "\u001b[1;32mpandas\\_libs\\index.pyx\u001b[0m in \u001b[0;36mpandas._libs.index.IndexEngine.get_loc\u001b[1;34m()\u001b[0m\n",
      "\u001b[1;32mpandas\\_libs\\index_class_helper.pxi\u001b[0m in \u001b[0;36mpandas._libs.index.Int64Engine._check_type\u001b[1;34m()\u001b[0m\n",
      "\u001b[1;31mKeyError\u001b[0m: '%Chg'"
     ]
    }
   ],
   "source": [
    "###APP.PY\n",
    "\n",
    "gain_percent = 0\n",
    "min_volume = 50e3\n",
    "max_last = 11\n",
    "\n",
    "url_permarket = 'https://thestockmarketwatch.com/markets/pre-market/today.aspx'\n",
    "url_gainers = 'https://thestockmarketwatch.com/markets/topstocks/'\n",
    "\n",
    "df_premarket_candidates = get_pregainers(gain_percent, max_last, min_volume, url_permarket)\n",
    "df_gainers_candidates = get_gainers(gain_percent, max_last, min_volume, url_gainers)"
   ]
  },
  {
   "cell_type": "code",
   "execution_count": 14,
   "metadata": {},
   "outputs": [
    {
     "name": "stdout",
     "output_type": "stream",
     "text": [
      "[*********************100%***********************]  1 of 1 completed\n"
     ]
    }
   ],
   "source": [
    "################################################\n",
    "########## Candlestick Patterns ################\n",
    "################################################\n",
    "\n",
    "yahoo_data = yf.download(\"SPY\", start=\"2021-01-01\", end=\"2021-04-06\")\n",
    "\n"
   ]
  },
  {
   "cell_type": "code",
   "execution_count": 19,
   "metadata": {},
   "outputs": [
    {
     "ename": "SyntaxError",
     "evalue": "invalid syntax (<ipython-input-19-f53dfe51d0a4>, line 1)",
     "output_type": "error",
     "traceback": [
      "\u001b[1;36m  File \u001b[1;32m\"<ipython-input-19-f53dfe51d0a4>\"\u001b[1;36m, line \u001b[1;32m1\u001b[0m\n\u001b[1;33m    import ta-lib\u001b[0m\n\u001b[1;37m             ^\u001b[0m\n\u001b[1;31mSyntaxError\u001b[0m\u001b[1;31m:\u001b[0m invalid syntax\n"
     ]
    }
   ],
   "source": []
  }
 ],
 "metadata": {
  "kernelspec": {
   "display_name": "Python 3",
   "language": "python",
   "name": "python3"
  },
  "language_info": {
   "codemirror_mode": {
    "name": "ipython",
    "version": 3
   },
   "file_extension": ".py",
   "mimetype": "text/x-python",
   "name": "python",
   "nbconvert_exporter": "python",
   "pygments_lexer": "ipython3",
   "version": "3.8.3"
  }
 },
 "nbformat": 4,
 "nbformat_minor": 4
}
