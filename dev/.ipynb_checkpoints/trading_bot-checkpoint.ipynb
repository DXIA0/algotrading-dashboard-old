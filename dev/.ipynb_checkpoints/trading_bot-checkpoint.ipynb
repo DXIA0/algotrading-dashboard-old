{
 "cells": [
  {
   "cell_type": "code",
   "execution_count": 3,
   "metadata": {},
   "outputs": [],
   "source": [
    "#!pip install yfinance"
   ]
  },
  {
   "cell_type": "code",
   "execution_count": 2,
   "metadata": {},
   "outputs": [],
   "source": [
    "import yfinance as yf #to get stock prices from internet\n",
    "import numpy as np #for calcs\n",
    "import pandas as pd #data handling\n",
    "import datetime as dt\n",
    "from datetime import datetime\n",
    "from pandas.tseries.offsets import MonthEnd #to jump through months "
   ]
  },
  {
   "cell_type": "code",
   "execution_count": 5,
   "metadata": {},
   "outputs": [],
   "source": [
    "# Import all ticker symbols from s&p500\n",
    "snp500_df = pd.read_html('https://en.wikipedia.org/wiki/List_of_S%26P_500_companies')[0] #pull all tables from website and read first item in list of tables"
   ]
  },
  {
   "cell_type": "code",
   "execution_count": 6,
   "metadata": {},
   "outputs": [],
   "source": [
    "snp500_tickers = snp500_df['Symbol'].to_list()"
   ]
  },
  {
   "cell_type": "code",
   "execution_count": 8,
   "metadata": {},
   "outputs": [
    {
     "name": "stdout",
     "output_type": "stream",
     "text": [
      "[*********************100%***********************]  505 of 505 completed\n",
      "\n",
      "2 Failed downloads:\n",
      "- BF.B: No data found for this date range, symbol may be delisted\n",
      "- BRK.B: No data found, symbol may be delisted\n",
      "[*********************102%************************]  514 of 505 completed"
     ]
    }
   ],
   "source": [
    "#get stocks prices for all stocks\n",
    "date_today = datetime.now()\n",
    "snp500_stock_info_df = yf.download(snp500_tickers, start='2020-1-31',end=date_today)"
   ]
  },
  {
   "cell_type": "code",
   "execution_count": 10,
   "metadata": {},
   "outputs": [],
   "source": [
    "#get adjusted close prices only \n",
    "snp500_stock_prices = snp500_stock_info_df['Adj Close']\n",
    "snp500_stock_prices.index = pd.to_datetime(snp500_stock_prices.index) #convert string date index to date format"
   ]
  },
  {
   "cell_type": "code",
   "execution_count": 16,
   "metadata": {},
   "outputs": [],
   "source": [
    "#calc monthly returns\n",
    "snp500_monthly_return_df = snp500_stock_prices.pct_change().resample('M').agg(lambda x: (x+1).prod()-1) #get daily change and accum for a month"
   ]
  },
  {
   "cell_type": "code",
   "execution_count": 19,
   "metadata": {},
   "outputs": [],
   "source": [
    "#calc returns over 11 month window\n",
    "snp500_rolling_11_month_window_df = (snp500_monthly_return_df+1).rolling(11).apply(np.prod)-1"
   ]
  },
  {
   "cell_type": "code",
   "execution_count": 21,
   "metadata": {},
   "outputs": [],
   "source": [
    "#porfolio review buying winners and selling losers\n",
    "formation = dt.datetime(2020,12,31)\n",
    "end_measurement = formation - MonthEnd(1) #1 month before formation date"
   ]
  },
  {
   "cell_type": "code",
   "execution_count": 28,
   "metadata": {},
   "outputs": [],
   "source": [
    "snp500_12month_return = snp500_rolling_11_month_window_df.loc[end_measurement] # search for end measurement date in rolling 11 month data"
   ]
  },
  {
   "cell_type": "code",
   "execution_count": 29,
   "metadata": {},
   "outputs": [],
   "source": [
    "snp500_12month_return = snp500_12month_return.reset_index()\n",
    "snp500_12month_return['decile'] = pd.qcut(snp500_12month_return.iloc[:,1],10,labels=False, duplicates='drop') #add new column decile and sort all in column 2 and sort into top 10 categories"
   ]
  },
  {
   "cell_type": "code",
   "execution_count": 30,
   "metadata": {},
   "outputs": [],
   "source": [
    "#define winners and losers\n",
    "snp500_winners = snp500_12month_return[snp500_12month_return.decile == 9]\n",
    "snp500_losers = snp500_12month_return[snp500_12month_return.decile == 0]"
   ]
  },
  {
   "cell_type": "code",
   "execution_count": 33,
   "metadata": {},
   "outputs": [
    {
     "data": {
      "text/plain": [
       "0.002797584986879839"
      ]
     },
     "execution_count": 33,
     "metadata": {},
     "output_type": "execute_result"
    }
   ],
   "source": [
    "#calc estimated winners return and losers return from buying and selling on formation date and holding for 1 month\n",
    "snp500_winners_return = snp500_monthly_return_df.loc[formation + MonthEnd(1), snp500_monthly_return_df.columns.isin(snp500_winners['index'])] #search for the formation date + 1 month and only for those that match ticker symbols stored in column 'index' for winners\n",
    "snp500_losers_return = snp500_monthly_return_df.loc[formation + MonthEnd(1), snp500_monthly_return_df.columns.isin(snp500_losers['index'])]\n",
    "\n",
    "snp500_momentum_profit = snp500_winners_return.mean() - snp500_losers_return.mean()\n",
    "print('PL 1 month after formation date would be: ',snp500_momentum_profit)"
   ]
  },
  {
   "cell_type": "code",
   "execution_count": null,
   "metadata": {},
   "outputs": [],
   "source": [
    "#https://www.youtube.com/watch?v=5W_Lpz1ZuTI\n",
    "# 19:25\n",
    "\n",
    "def snp500_momentum(formation_date):\n",
    "    end_measurement = formation - MonthEnd(1) #1 month before formation date\n"
   ]
  }
 ],
 "metadata": {
  "kernelspec": {
   "display_name": "Python 3",
   "language": "python",
   "name": "python3"
  },
  "language_info": {
   "codemirror_mode": {
    "name": "ipython",
    "version": 3
   },
   "file_extension": ".py",
   "mimetype": "text/x-python",
   "name": "python",
   "nbconvert_exporter": "python",
   "pygments_lexer": "ipython3",
   "version": "3.9.2"
  }
 },
 "nbformat": 4,
 "nbformat_minor": 4
}
