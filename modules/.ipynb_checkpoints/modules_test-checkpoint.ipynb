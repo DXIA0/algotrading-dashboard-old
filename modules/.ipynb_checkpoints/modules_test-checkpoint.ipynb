{
 "cells": [
  {
   "cell_type": "code",
   "execution_count": 13,
   "metadata": {},
   "outputs": [],
   "source": [
    "import pandas as pd\n",
    "import requests\n",
    "import yfinance as yf\n",
    "import ta"
   ]
  },
  {
   "cell_type": "code",
   "execution_count": 4,
   "metadata": {},
   "outputs": [],
   "source": [
    "################################################\n",
    "########## Premarket Gappers ###################\n",
    "################################################\n",
    "\n",
    "#to do\n",
    "#1. implement another screener https://www.tradingview.com/screener/\n",
    "# https://www.tradingview.com/screener/\n",
    "# https://thestockmarketwatch.com/markets/topstocks/\n",
    "\n",
    "#https://towardsdatascience.com/making-a-stock-screener-with-python-4f591b198261\n",
    "# https://github.com/jacksonhorton/marketTrader\n",
    "# pre and post market stats https://github.com/ivanstruk/Backtesting-Pre-Market-Price-Action\n",
    "# source https://iexcloud.io/docs/api/#chart\n",
    "\n",
    "\n",
    "\n",
    "def get_pregainers(gain_percent, max_last, min_volume):\n",
    "    #https://www.tradingview.com/screener/\n",
    "\n",
    "    #gain_percent = 10 # at least how many percent gain\n",
    "    #max_last = 10 # maximum price\n",
    "    #min_volume = 50000 # minimum volume\n",
    "\n",
    "    #float_range = [2000000,15000000] # size of float\n",
    "    #  if flt > FLOAT_BTW[0] and flt < FLOAT_BTW[1]:\n",
    "    #    return True\n",
    "    #  else:\n",
    "    #    return False\n",
    "\n",
    "    url = 'https://thestockmarketwatch.com/markets/pre-market/today.aspx'\n",
    "    header = {\n",
    "      \"User-Agent\": \"Mozilla/5.0 (X11; Linux x86_64) AppleWebKit/537.36 (KHTML, like Gecko) Chrome/50.0.2661.75 Safari/537.36\",\n",
    "      \"X-Requested-With\": \"XMLHttpRequest\"\n",
    "    }\n",
    "\n",
    "    r = requests.get(url, headers=header)\n",
    "\n",
    "    df_temp = pd.read_html(r.text) #fetch table from \"thestockmarketwatch.com\"\n",
    "    df_pregainers = df_temp[1]\n",
    "\n",
    "    df_pregainers['%Chg'] = df_pregainers['%Chg'].str.strip('%') #reformat all percent\n",
    "    df_pregainers['%Chg'] = pd.to_numeric(df_pregainers['%Chg'])\n",
    "    df_pregainers['Last'] = df_pregainers['Last'].str.strip('$')\n",
    "    df_pregainers['Last'] = pd.to_numeric(df_pregainers['Last'])\n",
    "    df_pregainers['Volume'] = pd.to_numeric(df_pregainers['Volume'])\n",
    "\n",
    "    df_pregainers.rename(columns={\"Last\":\"Last Price ($)\", \"%Chg\":\"Change (%)\", \"Symb\":\"Symbol\"}, inplace=True) #rename columns\n",
    "\n",
    "    df_eligible_candidates = pd.DataFrame(columns = [\"Change (%)\", \"Last Price ($)\", \"Symbol\", \"Company\", \"Volume\"])\n",
    "\n",
    "    for index, row in df_pregainers.iterrows():\n",
    "        if row['Change (%)'] > gain_percent and                row['Last Price ($)'] < max_last and                row['Volume'] > min_volume:\n",
    "              df_eligible_candidates = df_eligible_candidates.append(row, ignore_index=True)\n",
    "        else:\n",
    "            pass\n",
    "\n",
    "    return df_eligible_candidates\n"
   ]
  },
  {
   "cell_type": "code",
   "execution_count": 14,
   "metadata": {},
   "outputs": [
    {
     "name": "stdout",
     "output_type": "stream",
     "text": [
      "[*********************100%***********************]  1 of 1 completed\n"
     ]
    }
   ],
   "source": [
    "################################################\n",
    "########## Candlestick Patterns ################\n",
    "################################################\n",
    "\n",
    "yahoo_data = yf.download(\"SPY\", start=\"2021-01-01\", end=\"2021-04-06\")\n",
    "\n"
   ]
  },
  {
   "cell_type": "code",
   "execution_count": 19,
   "metadata": {},
   "outputs": [
    {
     "ename": "SyntaxError",
     "evalue": "invalid syntax (<ipython-input-19-f53dfe51d0a4>, line 1)",
     "output_type": "error",
     "traceback": [
      "\u001b[1;36m  File \u001b[1;32m\"<ipython-input-19-f53dfe51d0a4>\"\u001b[1;36m, line \u001b[1;32m1\u001b[0m\n\u001b[1;33m    import ta-lib\u001b[0m\n\u001b[1;37m             ^\u001b[0m\n\u001b[1;31mSyntaxError\u001b[0m\u001b[1;31m:\u001b[0m invalid syntax\n"
     ]
    }
   ],
   "source": []
  }
 ],
 "metadata": {
  "kernelspec": {
   "display_name": "Python 3",
   "language": "python",
   "name": "python3"
  },
  "language_info": {
   "codemirror_mode": {
    "name": "ipython",
    "version": 3
   },
   "file_extension": ".py",
   "mimetype": "text/x-python",
   "name": "python",
   "nbconvert_exporter": "python",
   "pygments_lexer": "ipython3",
   "version": "3.9.2"
  }
 },
 "nbformat": 4,
 "nbformat_minor": 4
}
